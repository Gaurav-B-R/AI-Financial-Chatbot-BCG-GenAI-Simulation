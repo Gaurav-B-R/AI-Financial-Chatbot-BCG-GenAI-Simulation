{
  "nbformat": 4,
  "nbformat_minor": 0,
  "metadata": {
    "colab": {
      "provenance": []
    },
    "kernelspec": {
      "name": "python3",
      "display_name": "Python 3"
    },
    "language_info": {
      "name": "python"
    }
  },
  "cells": [
    {
      "cell_type": "markdown",
      "source": [
        "# Fianancial Chatbot\n",
        "\n",
        "## Importing necessary libraries"
      ],
      "metadata": {
        "id": "RC0m4yFIGmFd"
      }
    },
    {
      "cell_type": "code",
      "source": [
        "# Importing necessary libraries\n",
        "import pandas as pd"
      ],
      "metadata": {
        "id": "iMatChTCF49-"
      },
      "execution_count": null,
      "outputs": []
    },
    {
      "cell_type": "markdown",
      "source": [
        "## Loading Data"
      ],
      "metadata": {
        "id": "3wvl6H1dGoMD"
      }
    },
    {
      "cell_type": "code",
      "source": [
        "# Load your data (assuming it's saved as a CSV file named 'financial_data.csv')\n",
        "df = pd.read_csv('financial_data.csv')"
      ],
      "metadata": {
        "id": "YU5NxtN1GMWd"
      },
      "execution_count": null,
      "outputs": []
    },
    {
      "cell_type": "markdown",
      "source": [
        "## Function to respond to predefined queries"
      ],
      "metadata": {
        "id": "IHK290qKGqkc"
      }
    },
    {
      "cell_type": "code",
      "source": [
        "# Function to respond to predefined queries\n",
        "def simple_chatbot(user_query):\n",
        "    if user_query == \"What is the total revenue?\":\n",
        "        # Example response using your dataset\n",
        "        revenue = df[df['Metric'] == 'Total Revenue']['Value'].values[-1]\n",
        "        return f\"The total revenue is {revenue}.\"\n",
        "    elif user_query == \"How has net income changed over the last year?\":\n",
        "        # Example calculation of net income change\n",
        "        net_income_current = df[df['Metric'] == 'Net Income']['Value'].values[-1]\n",
        "        net_income_last_year = df[df['Metric'] == 'Net Income']['Value'].values[-2]\n",
        "        change = net_income_current - net_income_last_year\n",
        "        return f\"The net income has changed by {change}.\"\n",
        "    elif user_query == \"What are the total assets?\":\n",
        "        assets = df[df['Metric'] == 'Total Assets']['Value'].values[-1]\n",
        "        return f\"The total assets are {assets}.\"\n",
        "    elif user_query == \"What is the cash flow from operating activities?\":\n",
        "        cash_flow = df[df['Metric'] == 'Cash Flow from Operating Activities']['Value'].values[-1]\n",
        "        return f\"The cash flow from operating activities is {cash_flow}.\"\n",
        "    elif user_query == \"How have liabilities changed?\":\n",
        "        liabilities_current = df[df['Metric'] == 'Total Liabilities']['Value'].values[-1]\n",
        "        liabilities_last_year = df[df['Metric'] == 'Total Liabilities']['Value'].values[-2]\n",
        "        change = liabilities_current - liabilities_last_year\n",
        "        return f\"The liabilities have changed by {change}.\"\n",
        "    else:\n",
        "        return \"Sorry, I can only provide information on predefined queries.\""
      ],
      "metadata": {
        "id": "Suz-etwBGObS"
      },
      "execution_count": null,
      "outputs": []
    },
    {
      "cell_type": "markdown",
      "source": [
        "## Chatbot interaction"
      ],
      "metadata": {
        "id": "nFbUkzdYGr1q"
      }
    },
    {
      "cell_type": "code",
      "source": [
        "# Chatbot interaction\n",
        "def run_chatbot():\n",
        "    print(\"Welcome to the Financial Chatbot. Ask me about financial metrics for Microsoft, Tesla, or Apple.\")\n",
        "    while True:\n",
        "        user_query = input(\"Ask a financial question (or type 'exit' to quit): \")\n",
        "        if user_query.lower() == 'exit':\n",
        "            print(\"Goodbye!\")\n",
        "            break\n",
        "        response = simple_chatbot(user_query)\n",
        "        print(response)"
      ],
      "metadata": {
        "id": "9EMJY5p7GQ47"
      },
      "execution_count": null,
      "outputs": []
    },
    {
      "cell_type": "markdown",
      "source": [
        "## Run the chatbot"
      ],
      "metadata": {
        "id": "Sao0bbmjGucf"
      }
    },
    {
      "cell_type": "code",
      "source": [
        "# Run the chatbot\n",
        "if __name__ == \"__main__\":\n",
        "    run_chatbot()"
      ],
      "metadata": {
        "id": "F5Ia-LKyF47R"
      },
      "execution_count": null,
      "outputs": []
    },
    {
      "cell_type": "markdown",
      "source": [
        "## Complete Script"
      ],
      "metadata": {
        "id": "X22k__OjIA7c"
      }
    },
    {
      "cell_type": "code",
      "source": [
        "# Importing necessary libraries\n",
        "import pandas as pd\n",
        "\n",
        "# Load your data (assuming it's saved as a CSV file named 'financial_data.csv')\n",
        "df = pd.read_csv('financial_data.csv')\n",
        "\n",
        "# Function to respond to predefined queries\n",
        "def simple_chatbot(user_query):\n",
        "    if user_query == \"What is the total revenue?\":\n",
        "        # Example response using your dataset\n",
        "        revenue = df[df['Metric'] == 'Total Revenue']['Value'].values[-1]\n",
        "        return f\"The total revenue is {revenue}.\"\n",
        "    elif user_query == \"How has net income changed over the last year?\":\n",
        "        # Example calculation of net income change\n",
        "        net_income_current = df[df['Metric'] == 'Net Income']['Value'].values[-1]\n",
        "        net_income_last_year = df[df['Metric'] == 'Net Income']['Value'].values[-2]\n",
        "        change = net_income_current - net_income_last_year\n",
        "        return f\"The net income has changed by {change}.\"\n",
        "    elif user_query == \"What are the total assets?\":\n",
        "        assets = df[df['Metric'] == 'Total Assets']['Value'].values[-1]\n",
        "        return f\"The total assets are {assets}.\"\n",
        "    elif user_query == \"What is the cash flow from operating activities?\":\n",
        "        cash_flow = df[df['Metric'] == 'Cash Flow from Operating Activities']['Value'].values[-1]\n",
        "        return f\"The cash flow from operating activities is {cash_flow}.\"\n",
        "    elif user_query == \"How have liabilities changed?\":\n",
        "        liabilities_current = df[df['Metric'] == 'Total Liabilities']['Value'].values[-1]\n",
        "        liabilities_last_year = df[df['Metric'] == 'Total Liabilities']['Value'].values[-2]\n",
        "        change = liabilities_current - liabilities_last_year\n",
        "        return f\"The liabilities have changed by {change}.\"\n",
        "    else:\n",
        "        return \"Sorry, I can only provide information on predefined queries.\"\n",
        "\n",
        "# Chatbot interaction\n",
        "def run_chatbot():\n",
        "    print(\"Welcome to the Financial Chatbot. Ask me about financial metrics for Microsoft, Tesla, or Apple.\")\n",
        "    while True:\n",
        "        user_query = input(\"Ask a financial question (or type 'exit' to quit): \")\n",
        "        if user_query.lower() == 'exit':\n",
        "            print(\"Goodbye!\")\n",
        "            break\n",
        "        response = simple_chatbot(user_query)\n",
        "        print(response)\n",
        "\n",
        "# Run the chatbot\n",
        "if __name__ == \"__main__\":\n",
        "    run_chatbot()"
      ],
      "metadata": {
        "id": "_rDYfondIAkx"
      },
      "execution_count": null,
      "outputs": []
    }
  ]
}