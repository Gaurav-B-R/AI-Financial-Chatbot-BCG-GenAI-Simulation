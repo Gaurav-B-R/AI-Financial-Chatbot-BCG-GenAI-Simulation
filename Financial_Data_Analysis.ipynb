{
  "nbformat": 4,
  "nbformat_minor": 0,
  "metadata": {
    "colab": {
      "provenance": []
    },
    "kernelspec": {
      "name": "python3",
      "display_name": "Python 3"
    },
    "language_info": {
      "name": "python"
    }
  },
  "cells": [
    {
      "cell_type": "markdown",
      "source": [
        "# Financial Data Analysis"
      ],
      "metadata": {
        "id": "Or1TtNfxCKur"
      }
    },
    {
      "cell_type": "markdown",
      "source": [
        "## Importing Libraries\n"
      ],
      "metadata": {
        "id": "PpT7vx2r9iDZ"
      }
    },
    {
      "cell_type": "code",
      "execution_count": null,
      "metadata": {
        "id": "LT8EAb0v7-fe"
      },
      "outputs": [],
      "source": [
        "# Importing pandas for data analysis\n",
        "import pandas as pd"
      ]
    },
    {
      "cell_type": "markdown",
      "source": [
        "## Loading the Extracted Data"
      ],
      "metadata": {
        "id": "meEC6C-g9lfM"
      }
    },
    {
      "cell_type": "code",
      "source": [
        "# Loading the financial data CSV into a pandas DataFrame\n",
        "df = pd.read_csv('financial_data.csv')\n",
        "\n",
        "# Displaying the first few rows to check the data\n",
        "df.head()"
      ],
      "metadata": {
        "id": "Sn_1rHtG9XQD"
      },
      "execution_count": null,
      "outputs": []
    },
    {
      "cell_type": "markdown",
      "source": [
        "## Data Preparation"
      ],
      "metadata": {
        "id": "k-RNnUoh9qq2"
      }
    },
    {
      "cell_type": "code",
      "source": [
        "# Displaying basic information about the DataFrame to check for any issues\n",
        "df.info()\n",
        "\n",
        "# Checking for missing values in the data\n",
        "df.isnull().sum()"
      ],
      "metadata": {
        "id": "nfNkmCsN9rLb"
      },
      "execution_count": null,
      "outputs": []
    },
    {
      "cell_type": "markdown",
      "source": [
        "## Analyzing Year-over-Year Changes"
      ],
      "metadata": {
        "id": "wNaqGzfA97EE"
      }
    },
    {
      "cell_type": "code",
      "source": [
        "# Calculating year-over-year percentage change for Total Revenue\n",
        "df['Revenue Growth (%)'] = df.groupby(['Company'])['Total Revenue'].pct_change() * 100\n",
        "\n",
        "# Calculating year-over-year percentage change for Net Income\n",
        "df['Net Income Growth (%)'] = df.groupby(['Company'])['Net Income'].pct_change() * 100\n",
        "\n",
        "# Calculating year-over-year percentage change for Total Assets\n",
        "df['Total Assets Growth (%)'] = df.groupby(['Company'])['Total Assets'].pct_change() * 100\n",
        "\n",
        "# Calculating year-over-year percentage change for Total Liabilities\n",
        "df['Total Liabilities Growth (%)'] = df.groupby(['Company'])['Total Liabilities'].pct_change() * 100\n",
        "\n",
        "# Calculating year-over-year percentage change for Cash Flow from Operating Activities\n",
        "df['Cash Flow Growth (%)'] = df.groupby(['Company'])['Cash Flow from Operating Activities'].pct_change() * 100\n",
        "\n",
        "# Display the updated DataFrame with growth columns\n",
        "df.head()"
      ],
      "metadata": {
        "id": "OgSyqVTE97pu"
      },
      "execution_count": null,
      "outputs": []
    },
    {
      "cell_type": "markdown",
      "source": [
        "## Summarizing Key Trends"
      ],
      "metadata": {
        "id": "jpEG6ModBw3h"
      }
    },
    {
      "cell_type": "code",
      "source": [
        "# Summary statistics for growth metrics\n",
        "summary = df.groupby('Company')[['Revenue Growth (%)', 'Net Income Growth (%)', 'Total Assets Growth (%)', 'Total Liabilities Growth (%)', 'Cash Flow Growth (%)']].describe()\n",
        "\n",
        "# Display summary statistics\n",
        "summary"
      ],
      "metadata": {
        "id": "J2pdFQW0BxaO"
      },
      "execution_count": null,
      "outputs": []
    },
    {
      "cell_type": "markdown",
      "source": [
        "## Visualization"
      ],
      "metadata": {
        "id": "k6XMPdFlB1eB"
      }
    },
    {
      "cell_type": "code",
      "source": [
        "import matplotlib.pyplot as plt\n",
        "\n",
        "# Plot Revenue Growth for each company over the years\n",
        "plt.figure(figsize=(10, 6))\n",
        "for company in df['Company'].unique():\n",
        "    company_data = df[df['Company'] == company]\n",
        "    plt.plot(company_data['Fiscal Year'], company_data['Revenue Growth (%)'], label=company)\n",
        "\n",
        "plt.title('Revenue Growth (%) Over the Last Three Years')\n",
        "plt.xlabel('Fiscal Year')\n",
        "plt.ylabel('Revenue Growth (%)')\n",
        "plt.legend()\n",
        "plt.show()"
      ],
      "metadata": {
        "id": "r2BeJJG4B167"
      },
      "execution_count": null,
      "outputs": []
    },
    {
      "cell_type": "markdown",
      "source": [
        "# Financial Analysis Summary\n",
        "\n",
        "## Key Observations:\n",
        "- **Revenue Growth**: Microsoft shows a consistent increase in revenue over the last three fiscal years, while Tesla's revenue growth was volatile.\n",
        "- **Net Income**: Apple experienced a stable rise in net income, whereas Tesla had significant fluctuations.\n",
        "- **Total Assets and Liabilities**: Both Apple and Microsoft have shown steady asset growth, while Tesla's liabilities have increased rapidly."
      ],
      "metadata": {
        "id": "KOv_KGH_CCuw"
      }
    }
  ]
}